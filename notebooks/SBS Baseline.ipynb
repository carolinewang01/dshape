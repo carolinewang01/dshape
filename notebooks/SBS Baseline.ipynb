{
 "cells": [
  {
   "cell_type": "code",
   "execution_count": 7,
   "id": "d9b0d3c7",
   "metadata": {},
   "outputs": [
    {
     "name": "stdout",
     "output_type": "stream",
     "text": [
      "/u/clw4542/research/rl_ifo_mujoco/src\n"
     ]
    }
   ],
   "source": [
    "import os \n",
    "# os.chdir(\"../src\")\n",
    "print(os.getcwd())\n",
    "\n",
    "import gym\n",
    "import numpy as np\n",
    "from scipy.stats import multivariate_normal\n",
    "from functools import partial\n",
    "\n",
    "from utils.helpers import get_demo, extract_observable_state\n",
    "from envs.goal_demo_wrapper import GoalDemoWrapper\n",
    "from envs.time_feature_wrapper import TimeFeatureWrapper"
   ]
  },
  {
   "cell_type": "markdown",
   "id": "b53d9d54",
   "metadata": {},
   "source": [
    "### Naive Implementation"
   ]
  },
  {
   "cell_type": "code",
   "execution_count": 52,
   "id": "2431cfef",
   "metadata": {},
   "outputs": [],
   "source": [
    "# checking average rewards from PBRS\n",
    "demo_algo = \"random\"\n",
    "env_id = \"Ant-v2\"\n",
    "expert_demo = get_demo(env_id, demo_algo=demo_algo,\n",
    "                       raw=True, shuffle=False, time_feat=True)\n",
    "\n",
    "multivariates = [partial(multivariate_normal.pdf, \n",
    "                 mean=expert_demo[i], \n",
    "                 cov=np.eye(expert_demo.shape[1])) for i in range(1001)]\n",
    "\n",
    "def compute_phi(state, ts):\n",
    "    rpt_state = np.repeat(np.expand_dims(state, axis=0), repeats=1001, axis=0)\n",
    "    res = []\n",
    "    for i in range(expert_demo.shape[0]):\n",
    "        res.append(multivariates[ts](rpt_state[i]))\n",
    "    res = np.array(res)\n",
    "    return np.max(res)\n"
   ]
  },
  {
   "cell_type": "code",
   "execution_count": 53,
   "id": "64ea16c2",
   "metadata": {},
   "outputs": [],
   "source": [
    "def run_episodes(env, env_id, n_eps, compute_phi=None):\n",
    "    ep_lens, ep_rets = [], []\n",
    "    for n in range(n_eps):\n",
    "        done = False\n",
    "        ep_len = 0\n",
    "        ep_ret = 0\n",
    "        ts = 0\n",
    "        env.reset()\n",
    "        while not done:\n",
    "            obs, rew, done, info = env.step(env.action_space.sample())\n",
    "            if compute_phi is not None:\n",
    "                raw_obs = extract_observable_state(obs, env_id, True)\n",
    "                rew = compute_phi(raw_obs, ts)\n",
    "            ep_len +=1 \n",
    "            ep_ret += rew\n",
    "            ts +=1\n",
    "        ep_lens.append(ep_len)\n",
    "        ep_rets.append(ep_ret)\n",
    "    return np.mean(ep_lens), np.mean(ep_rets)\n",
    "\n",
    "env = gym.make(env_id)"
   ]
  },
  {
   "cell_type": "code",
   "execution_count": 55,
   "id": "5deec99b",
   "metadata": {},
   "outputs": [
    {
     "name": "stdout",
     "output_type": "stream",
     "text": [
      "2min 20s ± 5.37 s per loop (mean ± std. dev. of 7 runs, 1 loop each)\n"
     ]
    }
   ],
   "source": [
    "%timeit run_episodes(env, env_id, n_eps=1, compute_phi=compute_phi)"
   ]
  },
  {
   "cell_type": "code",
   "execution_count": 50,
   "id": "d1f988b1",
   "metadata": {},
   "outputs": [
    {
     "name": "stdout",
     "output_type": "stream",
     "text": [
      "589 ms ± 5.48 ms per loop (mean ± std. dev. of 7 runs, 1 loop each)\n"
     ]
    }
   ],
   "source": [
    "%timeit run_episodes(env, env_id, n_eps=1, compute_phi=None)"
   ]
  },
  {
   "cell_type": "markdown",
   "id": "d254a98a",
   "metadata": {},
   "source": [
    "### KD-Tree Implementation"
   ]
  },
  {
   "cell_type": "code",
   "execution_count": 65,
   "id": "f47916a3",
   "metadata": {},
   "outputs": [
    {
     "ename": "TypeError",
     "evalue": "query_radius() got an unexpected keyword argument 'workers'",
     "output_type": "error",
     "traceback": [
      "\u001b[0;31m---------------------------------------------------------------------------\u001b[0m",
      "\u001b[0;31mTypeError\u001b[0m                                 Traceback (most recent call last)",
      "\u001b[0;32m<ipython-input-65-0525f5520f2f>\u001b[0m in \u001b[0;36m<module>\u001b[0;34m\u001b[0m\n\u001b[1;32m      7\u001b[0m \u001b[0;31m#               metric_params={\"V\": np.eye(3)}\u001b[0m\u001b[0;34m\u001b[0m\u001b[0;34m\u001b[0m\u001b[0;34m\u001b[0m\u001b[0m\n\u001b[1;32m      8\u001b[0m              )     \n\u001b[0;32m----> 9\u001b[0;31m \u001b[0mprint\u001b[0m\u001b[0;34m(\u001b[0m\u001b[0mtree\u001b[0m\u001b[0;34m.\u001b[0m\u001b[0mquery_radius\u001b[0m\u001b[0;34m(\u001b[0m\u001b[0mX\u001b[0m\u001b[0;34m[\u001b[0m\u001b[0;34m:\u001b[0m\u001b[0;36m1\u001b[0m\u001b[0;34m]\u001b[0m\u001b[0;34m,\u001b[0m \u001b[0mr\u001b[0m\u001b[0;34m=\u001b[0m\u001b[0;36m0.3\u001b[0m\u001b[0;34m,\u001b[0m \u001b[0mcount_only\u001b[0m\u001b[0;34m=\u001b[0m\u001b[0;32mTrue\u001b[0m\u001b[0;34m,\u001b[0m \u001b[0mworkers\u001b[0m\u001b[0;34m=\u001b[0m\u001b[0;36m2\u001b[0m\u001b[0;34m)\u001b[0m\u001b[0;34m)\u001b[0m\u001b[0;34m\u001b[0m\u001b[0;34m\u001b[0m\u001b[0m\n\u001b[0m\u001b[1;32m     10\u001b[0m \u001b[0;34m\u001b[0m\u001b[0m\n\u001b[1;32m     11\u001b[0m \u001b[0mind\u001b[0m \u001b[0;34m=\u001b[0m \u001b[0mtree\u001b[0m\u001b[0;34m.\u001b[0m\u001b[0mquery_radius\u001b[0m\u001b[0;34m(\u001b[0m\u001b[0mX\u001b[0m\u001b[0;34m[\u001b[0m\u001b[0;34m:\u001b[0m\u001b[0;36m1\u001b[0m\u001b[0;34m]\u001b[0m\u001b[0;34m,\u001b[0m \u001b[0mr\u001b[0m\u001b[0;34m=\u001b[0m\u001b[0;36m0.3\u001b[0m\u001b[0;34m)\u001b[0m\u001b[0;34m\u001b[0m\u001b[0;34m\u001b[0m\u001b[0m\n",
      "\u001b[0;32msklearn/neighbors/_binary_tree.pxi\u001b[0m in \u001b[0;36msklearn.neighbors._kd_tree.BinaryTree.query_radius\u001b[0;34m()\u001b[0m\n",
      "\u001b[0;31mTypeError\u001b[0m: query_radius() got an unexpected keyword argument 'workers'"
     ]
    }
   ],
   "source": [
    "from sklearn.neighbors import KDTree\n",
    "\n",
    "rng = np.random.RandomState(0)\n",
    "X = rng.random_sample((10, 3))  # 10 points in 3 dimensions\n",
    "\n",
    "tree = KDTree(X, leaf_size=2, metric='euclidean'\n",
    "#               metric_params={\"V\": np.eye(3)}\n",
    "             )     \n",
    "print(tree.query_radius(X[:1], r=0.3, count_only=True, workers=2))\n",
    "\n",
    "ind = tree.query_radius(X[:1], r=0.3)  \n",
    "print(ind)  # indices of neighbors within distance 0.3"
   ]
  },
  {
   "cell_type": "code",
   "execution_count": 71,
   "id": "8c3e8c93",
   "metadata": {},
   "outputs": [
    {
     "data": {
      "text/plain": [
       "(array([[0.        , 0.19662693]]), array([[0, 3]]))"
      ]
     },
     "execution_count": 71,
     "metadata": {},
     "output_type": "execute_result"
    }
   ],
   "source": [
    "from scipy.spatial import cKDTree as KDTree\n",
    "\n",
    "rng = np.random.RandomState(0)\n",
    "X = rng.random_sample((10, 3))  # 10 points in 3 dimensions\n",
    "\n",
    "tree = KDTree(X, leafsize=2)\n",
    "\n",
    "tree.query(X[:1], k=2, p=2, n_jobs=2)"
   ]
  },
  {
   "cell_type": "code",
   "execution_count": 134,
   "id": "0ed29fe1",
   "metadata": {},
   "outputs": [],
   "source": [
    "demo_algo = \"random\"\n",
    "env_id = \"Ant-v2\"\n",
    "expert_demo = get_demo(env_id, demo_algo=demo_algo,\n",
    "                       raw=True, shuffle=False, time_feat=True)\n",
    "exp_kdtree = KDTree(expert_demo) # 1001 points in n dims\n",
    "dist_scale = 0.5\n",
    "\n",
    "def compute_phi_kdtree(query_state, n_jobs):\n",
    "    # k for k-nearest neighbors, p for p-norm\n",
    "    dist, idx = exp_kdtree.query(query_state, k=1, p=2, n_jobs=n_jobs) # find expert state closest to query state\n",
    "    similarity = np.exp(- 0.5 * (dist**2) * dist_scale)\n",
    "    return similarity\n",
    "\n",
    "def run_episodes(env, env_id, n_eps, n_jobs=None, compute_phi=None):\n",
    "    ep_lens, ep_rets, ep_obs, ep_raw_obs = [], [], [], []\n",
    "    for n in range(n_eps):\n",
    "        done = False\n",
    "        ep_len = 0\n",
    "        ep_ret = 0\n",
    "        ts = 0\n",
    "        env.reset()\n",
    "        while not done:\n",
    "            obs, rew, done, info = env.step(env.action_space.sample())\n",
    "            if compute_phi is not None:\n",
    "                raw_obs = extract_observable_state(obs, env_id, True)\n",
    "                rew = compute_phi(raw_obs, n_jobs)\n",
    "                ep_raw_obs.append(raw_obs)\n",
    "            ep_obs.append(obs)\n",
    "            ep_len +=1 \n",
    "            ep_ret += rew\n",
    "            ts +=1\n",
    "        ep_lens.append(ep_len)\n",
    "        ep_rets.append(ep_ret)\n",
    "    return np.mean(ep_lens), np.mean(ep_rets), np.mean(ep_obs), np.std(ep_obs), np.max(ep_obs), np.min(ep_obs)\n",
    "\n",
    "env = gym.make(env_id)"
   ]
  },
  {
   "cell_type": "code",
   "execution_count": 96,
   "id": "66c80463",
   "metadata": {},
   "outputs": [
    {
     "name": "stdout",
     "output_type": "stream",
     "text": [
      "1.25 s ± 51.2 ms per loop (mean ± std. dev. of 7 runs, 1 loop each)\n"
     ]
    }
   ],
   "source": [
    "%timeit run_episodes(env, env_id, n_eps=1, n_jobs=3, compute_phi=compute_phi_kdtree)"
   ]
  },
  {
   "cell_type": "code",
   "execution_count": 97,
   "id": "c4080f16",
   "metadata": {},
   "outputs": [
    {
     "name": "stdout",
     "output_type": "stream",
     "text": [
      "695 ms ± 2.09 ms per loop (mean ± std. dev. of 7 runs, 1 loop each)\n"
     ]
    }
   ],
   "source": [
    "%timeit run_episodes(env, env_id, n_eps=1, n_jobs=1, compute_phi=compute_phi_kdtree)"
   ]
  },
  {
   "cell_type": "code",
   "execution_count": 103,
   "id": "8f8779e6",
   "metadata": {},
   "outputs": [
    {
     "name": "stdout",
     "output_type": "stream",
     "text": [
      "725 ms ± 1.77 ms per loop (mean ± std. dev. of 7 runs, 1 loop each)\n"
     ]
    }
   ],
   "source": [
    "%timeit run_episodes(env, env_id, n_eps=1, n_jobs=1, compute_phi=compute_phi_kdtree)"
   ]
  },
  {
   "cell_type": "markdown",
   "id": "a0773e7f",
   "metadata": {},
   "source": [
    "### Normalizing State Variables for Computing Phi\n",
    "\n",
    "The SBS paper states that state variables are mapped to be between 0 and 1. The state space in Mujoco are joint angles, velocities, transformations of, etc. Elements of the state space are sometimes clipped to be within -10 and 10, but not always. We observe that $s$ tends to lie within [-20, 20].  Since there is no natural min/max on Mujoco state elements we cannot normalize. Since data standardization (i.e. subtract the mean and divide by the standard deviation) makes data $N(0,I)$ but does not bound data between [0,1] either, we don't do that either. Instead, we apply the logistic function with a temperature parameter that we tune.\n",
    "\n",
    "Since the paper uses the full state to compute potentials, we also do that here. "
   ]
  },
  {
   "cell_type": "code",
   "execution_count": 136,
   "id": "b1fc9415",
   "metadata": {},
   "outputs": [
    {
     "name": "stdout",
     "output_type": "stream",
     "text": [
      "Swimmer-v2 0.00500333993697637 1.152980226856734 6.053521759531619 -6.426328595751195\n",
      "Ant-v2 0.011484850795654507 1.2242938056075938 16.608095452167312 -18.486680430336296\n",
      "HalfCheetah-v2 0.030077905070712275 3.889112417508262 24.380127172481114 -24.818120878265923\n",
      "Hopper-v2 -0.5885770138047779 2.058176541435016 10.0 -10.0\n",
      "Walker2d-v2 -1.0402280652602696 4.430968829700694 10.0 -10.0\n"
     ]
    }
   ],
   "source": [
    "for env_id in [\"Swimmer-v2\", \"Ant-v2\", \"HalfCheetah-v2\", \"Hopper-v2\", \"Walker2d-v2\"]:\n",
    "    env = gym.make(env_id)\n",
    "    _, _, mean_obs, std_obs, max_obs, min_obs = run_episodes(env, env_id, n_eps=20, n_jobs=1)\n",
    "    print(env_id, mean_obs, std_obs, max_obs, min_obs)"
   ]
  },
  {
   "cell_type": "code",
   "execution_count": 135,
   "id": "1137ab5a",
   "metadata": {},
   "outputs": [
    {
     "data": {
      "image/png": "[encoded data removed]",
      "text/plain": [
       "<Figure size 432x288 with 1 Axes>"
      ]
     },
     "metadata": {
      "needs_background": "light"
     },
     "output_type": "display_data"
    }
   ],
   "source": [
    "import matplotlib.pyplot as plt\n",
    "\n",
    "def logistic(x, tau):\n",
    "    return 1 / (1 + np.exp(tau * -x))\n",
    "\n",
    "xs = np.arange(-20, 20)\n",
    "for tau in np.arange(1, 10) / 10:\n",
    "    ys = logistic(xs, tau)\n",
    "    plt.plot(xs, ys, label=f\"tau={tau}\")\n",
    "    plt.legend()"
   ]
  }
 ],
 "metadata": {
  "kernelspec": {
   "display_name": "rlzoo",
   "language": "python",
   "name": "rlzoo"
  },
  "language_info": {
   "codemirror_mode": {
    "name": "ipython",
    "version": 3
   },
   "file_extension": ".py",
   "mimetype": "text/x-python",
   "name": "python",
   "nbconvert_exporter": "python",
   "pygments_lexer": "ipython3",
   "version": "3.6.12"
  }
 },
 "nbformat": 4,
 "nbformat_minor": 5
}
